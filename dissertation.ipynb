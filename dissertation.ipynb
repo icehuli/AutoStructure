{
  "nbformat": 4,
  "nbformat_minor": 0,
  "metadata": {
    "orig_nbformat": 4,
    "colab": {
      "name": "dissertation.ipynb",
      "provenance": [],
      "toc_visible": true,
      "include_colab_link": true
    },
    "language_info": {
      "name": "python"
    },
    "kernelspec": {
      "name": "python3",
      "display_name": "Python 3"
    }
  },
  "cells": [
    {
      "cell_type": "markdown",
      "metadata": {
        "id": "view-in-github",
        "colab_type": "text"
      },
      "source": [
        "<a href=\"https://colab.research.google.com/github/icehuli/Building-Structural-Design-Automation-And-Optimization/blob/dissertation/dissertation.ipynb\" target=\"_parent\"><img src=\"https://colab.research.google.com/assets/colab-badge.svg\" alt=\"Open In Colab\"/></a>"
      ]
    },
    {
      "cell_type": "markdown",
      "metadata": {
        "id": "nk2qaVgFwNHX"
      },
      "source": [
        "# Automated preliminary structural design of steel-concrete composite office buildings"
      ]
    },
    {
      "cell_type": "markdown",
      "metadata": {
        "id": "liu3Kg6cwl4c"
      },
      "source": [
        "# Introduction\n",
        "## Steel-concrete composite structures\n",
        "// Introduction of steel-concrete composite structures\n",
        "## Office buildings\n",
        "// Shape and layout of office buildings\n",
        "## Preliminary structural design\n",
        "\n",
        "## Automated structural design"
      ]
    },
    {
      "cell_type": "markdown",
      "metadata": {
        "id": "rk7-xpelwvaN"
      },
      "source": [
        ""
      ]
    },
    {
      "cell_type": "code",
      "metadata": {
        "id": "442ZESDsvfsL"
      },
      "source": [
        ""
      ],
      "execution_count": null,
      "outputs": []
    }
  ]
}